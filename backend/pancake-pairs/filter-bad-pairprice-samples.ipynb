{
 "cells": [
  {
   "cell_type": "markdown",
   "metadata": {},
   "source": [
    "# Filter Bad PairPrice"
   ]
  },
  {
   "cell_type": "code",
   "execution_count": 1,
   "metadata": {},
   "outputs": [],
   "source": [
    "from modules.stores.StoreTimescaledb import StoreTimescaledb as Store\n",
    "store = Store()"
   ]
  },
  {
   "cell_type": "code",
   "execution_count": 2,
   "metadata": {},
   "outputs": [
    {
     "name": "stderr",
     "output_type": "stream",
     "text": [
      "Active Pairs:   8%|▊         | 621/7732 [01:12<12:42,  9.32 pairs/s, h=2, h%=0.265, f={'neg today': 130, 'len(pp)': 23}]"
     ]
    },
    {
     "data": {
      "image/png": "[encoded data removed]",
      "text/plain": [
       "<Figure size 1440x360 with 1 Axes>"
      ]
     },
     "metadata": {
      "needs_background": "light"
     },
     "output_type": "display_data"
    },
    {
     "name": "stderr",
     "output_type": "stream",
     "text": [
      "Active Pairs:   8%|▊         | 623/7732 [01:13<19:35,  6.05 pairs/s, h=2, h%=0.265, f={'neg today': 130, 'len(pp)': 23}]"
     ]
    },
    {
     "name": "stdout",
     "output_type": "stream",
     "text": [
      "https://www.dextools.io/app/bsc/pair-explorer/0xe535e5443bbB338aEaB636fc3c2C38203a7496f3\n"
     ]
    },
    {
     "name": "stderr",
     "output_type": "stream",
     "text": [
      "Active Pairs:  38%|███▊      | 2904/7732 [05:25<08:37,  9.32 pairs/s, h=7, h%=1.48, f={'neg today': 769, 'len(pp)': 129}]"
     ]
    }
   ],
   "source": [
    "import matplotlib.pyplot as plt \n",
    "import numpy as np\n",
    "import math\n",
    "\n",
    "from tqdm import tqdm\n",
    "\n",
    "connection = store.connect()\n",
    "\n",
    "fig, ax = plt.subplots()  # Create a figure containing a single axes.\n",
    "fig.set_size_inches(20, 5)\n",
    "\n",
    "filteredCount = {}\n",
    "nthCounter = 0\n",
    "nthHitPlot = 3\n",
    "hitsFound = 0\n",
    "\n",
    "# Single entry\n",
    "targetAddress = \"0x5EF4ED3D0fb714B1c1cF15cE372Ed9b805Fa5650\"\n",
    "activePairs = [store.getPairByAddress(targetAddress)]\n",
    "\n",
    "# List Entry\n",
    "activePairs = store.getActivePairs(idsOnly = True) # Toggle this\n",
    "pBar = tqdm(activePairs,  unit =\" pairs\", desc= \"Active Pairs\" )\n",
    "\n",
    "def pbarUpdate():\n",
    "    pBar.set_postfix({\n",
    "        'h': hitsFound,\n",
    "        'h%': ( (100*hitsFound)/len(pairPriceList)), \n",
    "        'f' : filteredCount\n",
    "    })\n",
    "    \n",
    "for activePair in pBar:\n",
    "    \n",
    "    pairPriceList = store.getPairPrices(activePair)\n",
    "    if len(pairPriceList) == 0:\n",
    "        filteredCount[\"len(pp)\"] = filteredCount[\"len(pp)\"] + 1 if \"len(pp)\" in filteredCount else 1\n",
    "        pbarUpdate()\n",
    "        continue\n",
    "    token = store.getTokenByAddress(pairPriceList[0].targetToken)\n",
    "    \n",
    "    y1 = [pairPrice.priceStableCoin for pairPrice in pairPriceList ]\n",
    "    \n",
    "    \n",
    "    \n",
    "    #----------------------------------------\n",
    "    # Filters\n",
    "    #----------------------------------------\n",
    "    \n",
    "    # Filter: Last 10% of data is above first 10% of data -- Price is already too negative\n",
    "    first10PercentValues = y1[( math.floor((len(y1) / 10) * 1 ) ):]\n",
    "    last10PercentValues = y1[( math.floor((len(y1) / 10) * 9 ) ):]\n",
    "    \n",
    "    if  (sum(first10PercentValues) / len(first10PercentValues)) <=  (sum(last10PercentValues) / len(last10PercentValues)):\n",
    "        filteredCount[\"neg today\"] = filteredCount[\"neg today\"] + 1 if \"neg today\" in filteredCount else 1\n",
    "        pbarUpdate()\n",
    "        continue\n",
    "    \n",
    "    # Filter: Average amount of trades per day is above 10 -- No trade activity\n",
    "    availableTimeframe = (pairPriceList[-1].currentTime - pairPriceList[0].currentTime)\n",
    "    availableTimeframeInHours,remainder = divmod(availableTimeframe.seconds, 3600)\n",
    "    availableTimeframeInHours += (availableTimeframe.days * 24) # add hours for all days\n",
    "\n",
    "    try:\n",
    "        avgPriceChangesPerHour = ( len(pairPriceList) / (availableTimeframeInHours ) )\n",
    "    except:\n",
    "        pass\n",
    "    \n",
    "    if avgPriceChangesPerHour < 10:\n",
    "        filteredCount[\"delta/hour\"] = filteredCount[\"delta/hour\"] + 1 if \"delta/hour\" in filteredCount else 1\n",
    "        pbarUpdate()\n",
    "        continue\n",
    "    \n",
    "    # Filter: Sufficient Variance -- Existence of price activity\n",
    "    # last50PercentValues = [1,2,3,4,5,6,7,8,9,10]\n",
    "    last50PercentValues = y1[( math.floor(len(y1) / 2) ):]\n",
    "    avgLast50PercentValues = (sum(last50PercentValues) / len(last50PercentValues))\n",
    "    \n",
    "    ## Filter: No Variance -- No price activity\n",
    "    last50PercentVariance = ( sum([ ( (x - avgLast50PercentValues) ** 2) for x in last50PercentValues]) /  len(last50PercentValues) )\n",
    "    if last50PercentVariance == 0:\n",
    "        filteredCount[\"no var\"] = filteredCount[\"no var\"] + 1 if \"no var\" in filteredCount else 1\n",
    "        pbarUpdate()\n",
    "        continue\n",
    "\n",
    "    ## Filter: Variance above ( 1% ) -- Too little price activity\n",
    "    last50PercentRelativeVariance = (( 100 * last50PercentVariance)  / avgLast50PercentValues )    \n",
    "    if last50PercentRelativeVariance < 1:\n",
    "        filteredCount[\"little var\"] = filteredCount[\"little var\"] + 1 if \"little var\" in filteredCount else 1\n",
    "        pbarUpdate()\n",
    "        continue    \n",
    "    \n",
    "    # Filter: Last 25% is above 10% of ATH -- To large of a drop down, dead token\n",
    "    ath = max(y1)\n",
    "    last25PercentValues = y1[( math.floor((len(y1) / 4) * 3 ) ):] \n",
    "    avgLast25Percent = (sum(last25PercentValues) / len(last25PercentValues)  )\n",
    "    ## Percentage of ATH\n",
    "    percentageOfAth  = (( 100 * avgLast25Percent) / ath)\n",
    "    ## Percentual change of ATH\n",
    "    percentageChangeOfAth = (avgLast25Percent - ath) / ath\n",
    "    \n",
    "    if percentageOfAth < 10:\n",
    "        filteredCount[\"smaller ath\"] = filteredCount[\"smaller ath\"] + 1 if \"smaller ath\" in filteredCount else 1\n",
    "        pbarUpdate()\n",
    "        continue \n",
    "    \n",
    "    \n",
    "    \n",
    "    # Filter: Only show nth hit -- Browsing through hits\n",
    "    nthCounter+=1\n",
    "    if nthCounter != nthHitPlot:\n",
    "        hitsFound += 1\n",
    "        pbarUpdate()\n",
    "        continue\n",
    "    \n",
    "    \n",
    "    #----------------------------------------\n",
    "    # END: Filters\n",
    "    #----------------------------------------\n",
    "    \n",
    "    \n",
    "    \n",
    "    \n",
    "    # Plot Results\n",
    "    #----------------------------------------\n",
    "    x = [pairPrice.currentTime for pairPrice in pairPriceList ]\n",
    "    y2 = [pairPrice.priceUsdt for pairPrice in pairPriceList ]\n",
    "    ax.plot(x, y1, label='stable')\n",
    "    # ax.plot(x, y2, label='usdt')\n",
    "    ax.set_title('Token: ' + token.name)\n",
    "    ax.xaxis.set_tick_params(rotation=40)\n",
    "    ax.legend()  # Add a legend.\n",
    "    plt.show()\n",
    "\n",
    "    print(\"https://www.dextools.io/app/bsc/pair-explorer/\" + activePair.address)\n",
    "    # break # only show 1 plot\n",
    "    \n",
    "print(\"Out of \" + len(activePairs) + \" found \" + hitsFound + \": %\" + (hitsFound / len(activePairs)))"
   ]
  }
 ],
 "metadata": {
  "interpreter": {
   "hash": "916dbcbb3f70747c44a77c7bcd40155683ae19c65e1c03b4aa3499c5328201f1"
  },
  "kernelspec": {
   "display_name": "Python 3.8.10 64-bit",
   "language": "python",
   "name": "python3"
  },
  "language_info": {
   "codemirror_mode": {
    "name": "ipython",
    "version": 3
   },
   "file_extension": ".py",
   "mimetype": "text/x-python",
   "name": "python",
   "nbconvert_exporter": "python",
   "pygments_lexer": "ipython3",
   "version": "3.8.10"
  },
  "orig_nbformat": 4
 },
 "nbformat": 4,
 "nbformat_minor": 2
}
